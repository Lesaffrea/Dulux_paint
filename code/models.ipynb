{
 "cells": [
  {
   "cell_type": "markdown",
   "metadata": {},
   "source": [
    "# Toward Prediction\n",
    "This document includes the steps used for Dulux to arrive to a prediction of opportunities. Warning the data set used has been an aggregation, which at the moment is more black art than anything else, in a way that manual steps are nessary and therefor error prone.\n",
    "\n",
    "The steps taken in this document are:\n",
    "1. Transform the categories for type and project status variable\n",
    "2. Split the data set in sub-saample based on Hot and Warm\n",
    "3. For each sub sample buuld the hot encoding and conditional porbabilities\n",
    "3. For ecah sub sample build the classification using logitc regression\n",
    "4. Metrics by cnfusion matrix.\n",
    "\n",
    "\n",
    "Warning: Python statsmodel was not able to deal with the design matrix. "
   ]
  },
  {
   "cell_type": "code",
   "execution_count": 81,
   "metadata": {},
   "outputs": [],
   "source": [
    "# What we use\n",
    "import pandas as pd\n",
    "import numpy  as np\n",
    "from sklearn.linear_model import LogisticRegression # No Glm in Python .... \n",
    "from sklearn.metrics  import roc_curve, auc \n",
    "from sklearn.metrics  import confusion_matrix\n",
    "from sklearn.metrics  import ConfusionMatrixDisplay\n",
    "from re import search\n",
    "import vtreat\n",
    "# For display\n",
    "import matplotlib.pyplot as plt\n",
    "# For exploration\n",
    "import math\n",
    "# For other tests\n",
    "from pymer4.models import Lmer\n",
    "import statsmodels.api as sm\n",
    "import statsmodels.formula.api as smf\n",
    "# We read our data they have been prepared\n",
    "all_data = pd.read_csv(\"../data/data_set.csv\")\n"
   ]
  },
  {
   "cell_type": "markdown",
   "metadata": {},
   "source": [
    "# The data set \n",
    "The transformation of the two variables. See below a snapshot, only few variables are used in the model, for details about the data set report to other reports.\n",
    "\n",
    "For pandas we have no defined index."
   ]
  },
  {
   "cell_type": "code",
   "execution_count": 82,
   "metadata": {},
   "outputs": [
    {
     "data": {
      "text/html": [
       "<div>\n",
       "<style scoped>\n",
       "    .dataframe tbody tr th:only-of-type {\n",
       "        vertical-align: middle;\n",
       "    }\n",
       "\n",
       "    .dataframe tbody tr th {\n",
       "        vertical-align: top;\n",
       "    }\n",
       "\n",
       "    .dataframe thead th {\n",
       "        text-align: right;\n",
       "    }\n",
       "</style>\n",
       "<table border=\"1\" class=\"dataframe\">\n",
       "  <thead>\n",
       "    <tr style=\"text-align: right;\">\n",
       "      <th></th>\n",
       "      <th>Unnamed: 0</th>\n",
       "      <th>projectid</th>\n",
       "      <th>name</th>\n",
       "      <th>company</th>\n",
       "      <th>qualification_level_code_text</th>\n",
       "      <th>user_status_code_text</th>\n",
       "      <th>account_life_cycle_status_code_text</th>\n",
       "      <th>priority_code_text</th>\n",
       "      <th>group_code_text</th>\n",
       "      <th>account_state</th>\n",
       "      <th>...</th>\n",
       "      <th>projectstage</th>\n",
       "      <th>project_status</th>\n",
       "      <th>remarks</th>\n",
       "      <th>origin_type_code_text</th>\n",
       "      <th>life_cycle_status_code_text</th>\n",
       "      <th>value</th>\n",
       "      <th>opportunity</th>\n",
       "      <th>creation_date</th>\n",
       "      <th>beg_date</th>\n",
       "      <th>log_value</th>\n",
       "    </tr>\n",
       "  </thead>\n",
       "  <tbody>\n",
       "    <tr>\n",
       "      <th>0</th>\n",
       "      <td>1</td>\n",
       "      <td>185794017</td>\n",
       "      <td>Hill St Richmond NZ 7020</td>\n",
       "      <td>Newton Survey - Richmond</td>\n",
       "      <td>Warm</td>\n",
       "      <td>Qualified</td>\n",
       "      <td>Active</td>\n",
       "      <td>Normal</td>\n",
       "      <td>Commercial Project</td>\n",
       "      <td>NZ</td>\n",
       "      <td>...</td>\n",
       "      <td>Documentation</td>\n",
       "      <td>Development Application</td>\n",
       "      <td>{!*20 lot residential subdivision*Associated w...</td>\n",
       "      <td>BCI/Cordell</td>\n",
       "      <td>Qualified</td>\n",
       "      <td>1000000</td>\n",
       "      <td>0</td>\n",
       "      <td>2021-03-31 16:52:06</td>\n",
       "      <td>2021-03-01</td>\n",
       "      <td>13.815511</td>\n",
       "    </tr>\n",
       "    <tr>\n",
       "      <th>1</th>\n",
       "      <td>2</td>\n",
       "      <td>84980017</td>\n",
       "      <td>248-250 Normanby Rd South Melbourne VIC 3205</td>\n",
       "      <td>Planning &amp; Property Partners Pty Lt</td>\n",
       "      <td>Hot</td>\n",
       "      <td>Qualified</td>\n",
       "      <td>Active</td>\n",
       "      <td>Normal</td>\n",
       "      <td>Commercial Project</td>\n",
       "      <td>VIC</td>\n",
       "      <td>...</td>\n",
       "      <td>Documentation</td>\n",
       "      <td>Appeal Lodged</td>\n",
       "      <td>{!*Demolish existing commercial buildings*240 ...</td>\n",
       "      <td>BCI/Cordell</td>\n",
       "      <td>Qualified</td>\n",
       "      <td>60000000</td>\n",
       "      <td>0</td>\n",
       "      <td>2021-04-12 04:30:18</td>\n",
       "      <td>2021-04-01</td>\n",
       "      <td>17.909855</td>\n",
       "    </tr>\n",
       "    <tr>\n",
       "      <th>2</th>\n",
       "      <td>3</td>\n",
       "      <td>187295017</td>\n",
       "      <td>SH4 PARAPARA RD SLIP REPAIR</td>\n",
       "      <td>New Zealand Transport Agency (NZTA)</td>\n",
       "      <td>Warm</td>\n",
       "      <td>Qualified</td>\n",
       "      <td>Active</td>\n",
       "      <td>Normal</td>\n",
       "      <td>Commercial Project</td>\n",
       "      <td>NZ</td>\n",
       "      <td>...</td>\n",
       "      <td>Documentation</td>\n",
       "      <td>Tenders To Be Called</td>\n",
       "      <td>{!*Slip repair*Roadworks!*Reinsate road*Earthw...</td>\n",
       "      <td>BCI/Cordell</td>\n",
       "      <td>Qualified</td>\n",
       "      <td>5000000</td>\n",
       "      <td>0</td>\n",
       "      <td>2019-11-01 15:13:07</td>\n",
       "      <td>2019-11-01</td>\n",
       "      <td>15.424948</td>\n",
       "    </tr>\n",
       "    <tr>\n",
       "      <th>3</th>\n",
       "      <td>4</td>\n",
       "      <td>224860017</td>\n",
       "      <td>17 Carnforth St Green Island NZ 9018</td>\n",
       "      <td>Calder Stewart Industries Ltd - Mil</td>\n",
       "      <td>Warm</td>\n",
       "      <td>Qualified</td>\n",
       "      <td>Active</td>\n",
       "      <td>Normal</td>\n",
       "      <td>Commercial Project</td>\n",
       "      <td>NZ</td>\n",
       "      <td>...</td>\n",
       "      <td>Construction</td>\n",
       "      <td>Construction Commenced</td>\n",
       "      <td>{!*Alterations &amp; additions of existing office*...</td>\n",
       "      <td>BCI/Cordell</td>\n",
       "      <td>Qualified</td>\n",
       "      <td>2100000</td>\n",
       "      <td>0</td>\n",
       "      <td>2020-12-22 03:30:32</td>\n",
       "      <td>2020-12-01</td>\n",
       "      <td>14.557448</td>\n",
       "    </tr>\n",
       "    <tr>\n",
       "      <th>4</th>\n",
       "      <td>5</td>\n",
       "      <td>214518017</td>\n",
       "      <td>OPHIR PEACE MEMORIAL HALL</td>\n",
       "      <td>Central Otago District Council</td>\n",
       "      <td>Warm</td>\n",
       "      <td>Qualified</td>\n",
       "      <td>Active</td>\n",
       "      <td>Normal</td>\n",
       "      <td>Commercial Project</td>\n",
       "      <td>NZ</td>\n",
       "      <td>...</td>\n",
       "      <td>Tender</td>\n",
       "      <td>Contract Awarded/Builder Apptd</td>\n",
       "      <td>{!*Alterations &amp; additions to existing communi...</td>\n",
       "      <td>BCI/Cordell</td>\n",
       "      <td>Qualified</td>\n",
       "      <td>210000</td>\n",
       "      <td>0</td>\n",
       "      <td>2021-03-19 16:19:37</td>\n",
       "      <td>2021-03-01</td>\n",
       "      <td>12.254863</td>\n",
       "    </tr>\n",
       "  </tbody>\n",
       "</table>\n",
       "<p>5 rows × 22 columns</p>\n",
       "</div>"
      ],
      "text/plain": [
       "   Unnamed: 0  projectid                                          name  \\\n",
       "0           1  185794017                      Hill St Richmond NZ 7020   \n",
       "1           2   84980017  248-250 Normanby Rd South Melbourne VIC 3205   \n",
       "2           3  187295017                   SH4 PARAPARA RD SLIP REPAIR   \n",
       "3           4  224860017          17 Carnforth St Green Island NZ 9018   \n",
       "4           5  214518017                     OPHIR PEACE MEMORIAL HALL   \n",
       "\n",
       "                               company qualification_level_code_text  \\\n",
       "0             Newton Survey - Richmond                          Warm   \n",
       "1  Planning & Property Partners Pty Lt                           Hot   \n",
       "2  New Zealand Transport Agency (NZTA)                          Warm   \n",
       "3  Calder Stewart Industries Ltd - Mil                          Warm   \n",
       "4       Central Otago District Council                          Warm   \n",
       "\n",
       "  user_status_code_text account_life_cycle_status_code_text  \\\n",
       "0             Qualified                              Active   \n",
       "1             Qualified                              Active   \n",
       "2             Qualified                              Active   \n",
       "3             Qualified                              Active   \n",
       "4             Qualified                              Active   \n",
       "\n",
       "  priority_code_text     group_code_text account_state  ...   projectstage  \\\n",
       "0             Normal  Commercial Project            NZ  ...  Documentation   \n",
       "1             Normal  Commercial Project           VIC  ...  Documentation   \n",
       "2             Normal  Commercial Project            NZ  ...  Documentation   \n",
       "3             Normal  Commercial Project            NZ  ...   Construction   \n",
       "4             Normal  Commercial Project            NZ  ...         Tender   \n",
       "\n",
       "                   project_status  \\\n",
       "0         Development Application   \n",
       "1                   Appeal Lodged   \n",
       "2            Tenders To Be Called   \n",
       "3          Construction Commenced   \n",
       "4  Contract Awarded/Builder Apptd   \n",
       "\n",
       "                                             remarks origin_type_code_text  \\\n",
       "0  {!*20 lot residential subdivision*Associated w...           BCI/Cordell   \n",
       "1  {!*Demolish existing commercial buildings*240 ...           BCI/Cordell   \n",
       "2  {!*Slip repair*Roadworks!*Reinsate road*Earthw...           BCI/Cordell   \n",
       "3  {!*Alterations & additions of existing office*...           BCI/Cordell   \n",
       "4  {!*Alterations & additions to existing communi...           BCI/Cordell   \n",
       "\n",
       "  life_cycle_status_code_text     value opportunity        creation_date  \\\n",
       "0                   Qualified   1000000           0  2021-03-31 16:52:06   \n",
       "1                   Qualified  60000000           0  2021-04-12 04:30:18   \n",
       "2                   Qualified   5000000           0  2019-11-01 15:13:07   \n",
       "3                   Qualified   2100000           0  2020-12-22 03:30:32   \n",
       "4                   Qualified    210000           0  2021-03-19 16:19:37   \n",
       "\n",
       "     beg_date  log_value  \n",
       "0  2021-03-01  13.815511  \n",
       "1  2021-04-01  17.909855  \n",
       "2  2019-11-01  15.424948  \n",
       "3  2020-12-01  14.557448  \n",
       "4  2021-03-01  12.254863  \n",
       "\n",
       "[5 rows x 22 columns]"
      ]
     },
     "execution_count": 82,
     "metadata": {},
     "output_type": "execute_result"
    }
   ],
   "source": [
    "all_data.head()"
   ]
  },
  {
   "cell_type": "markdown",
   "metadata": {},
   "source": [
    "We reduce the categories for project type and named it type"
   ]
  },
  {
   "cell_type": "code",
   "execution_count": 83,
   "metadata": {},
   "outputs": [],
   "source": [
    "# First project type for analysis report to first report\n",
    "all_data['project_type'] = all_data['project_type'].str.lower()\n",
    "#  We do the mapping !!!\n",
    "all_data['type'] = np.where( all_data['project_type'].str.findall('apartments'), 'apartment', 'no')\n",
    "all_data['type'] = np.where( (all_data['type'] =='no') &  all_data['project_type'].str.findall('chalet|house')  , 'townhouse', all_data['type'])\n",
    "all_data['type'] = np.where( (all_data['type'] =='no') &  all_data['project_type'].str.findall(\"commercial|motel|hotel|showroom|industrial|supermarket|factory\")  , 'commercial', all_data['type'])\n",
    "all_data['type'] = np.where( (all_data['type'] =='no') &  all_data['project_type'].str.findall(\"office\")  , 'commercial', all_data['type'])\n",
    "all_data['type'] = np.where( (all_data['type'] =='no') &  all_data['project_type'].str.findall(\"road\")  , 'road', all_data['type'])\n",
    "all_data['type'] = np.where( (all_data['type'] =='no') &  all_data['project_type'].str.findall(\"streetscap|intersection\")  , 'road', all_data['type'])\n",
    "all_data['type'] = np.where( (all_data['type'] =='no') &  all_data['project_type'].str.findall(\"aged care|retirement\")  , 'aged care', all_data['type'])\n",
    "all_data['type'] = np.where( (all_data['type'] =='no') &  all_data['project_type'].str.findall( \"retirement village|senior living villa|senior living unit\")  , 'aged care', all_data['type'])\n",
    "all_data['type'] = np.where( (all_data['type'] =='no') &  all_data['project_type'].str.findall('cycle')  , 'road', all_data['type'])\n",
    "all_data['type'] = np.where( (all_data['type'] =='no') &  all_data['project_type'].str.findall('hotel|restaurant')  , 'hospitality', all_data['type'])\n",
    "all_data['type'] = np.where( (all_data['type'] =='no') &  all_data['project_type'].str.findall('prison|school|classroom|community centre|social housing|bridge|childcare centre|hospital|medical|water infrastructure|childcare centre|airport')  , 'public', all_data['type'])\n",
    "all_data['type'] = np.where( (all_data['type'] =='no') , 'other', all_data['type'])\n"
   ]
  },
  {
   "cell_type": "markdown",
   "metadata": {},
   "source": [
    "We do the same with project status the category big_effect is based on the first analysis of impact"
   ]
  },
  {
   "cell_type": "code",
   "execution_count": 84,
   "metadata": {},
   "outputs": [],
   "source": [
    "all_data['project_status'] = np.where(all_data['project_status'].str.findall('Rezoning|Tenders To Be Called|Site Works Commenced|Construction Certificate Approved|Development Approval|Tenders Called'), 'big_effect', all_data['project_status'])"
   ]
  },
  {
   "cell_type": "markdown",
   "metadata": {},
   "source": [
    "The distribution of the type after transformation is the following:"
   ]
  },
  {
   "cell_type": "code",
   "execution_count": 85,
   "metadata": {},
   "outputs": [
    {
     "name": "stdout",
     "output_type": "stream",
     "text": [
      "other          1756\n",
      "townhouse       969\n",
      "apartment       924\n",
      "public          669\n",
      "commercial      470\n",
      "road            361\n",
      "aged care       143\n",
      "hospitality      50\n",
      "Name: type, dtype: int64\n"
     ]
    }
   ],
   "source": [
    "print(all_data.type.value_counts())"
   ]
  },
  {
   "cell_type": "markdown",
   "metadata": {},
   "source": [
    "Similar view for project_status "
   ]
  },
  {
   "cell_type": "code",
   "execution_count": 86,
   "metadata": {},
   "outputs": [
    {
     "name": "stdout",
     "output_type": "stream",
     "text": [
      "big_effect                                                 2021\n",
      "Development Application                                     498\n",
      "Tenderers Named                                             460\n",
      "Construction Commenced                                      400\n",
      "Tenders Closed Contract not yet Let                         387\n",
      "Feasibility/EIS/Submission of Proposals/Master Planning     324\n",
      "Deferred                                                    298\n",
      "Construction Certificate Submitted                          240\n",
      "Contract Awarded/Builder Apptd                              223\n",
      "Appeal Lodged                                                95\n",
      "Abandoned                                                    92\n",
      "Site for Sale                                                74\n",
      "Sketch plans                                                 72\n",
      "Expressions / Registrations of Interest                      70\n",
      "Competition / Design Tender                                  60\n",
      "Winner Announced / Contract Awarded                          18\n",
      "Main Contractor On Site                                      10\n",
      "Name: project_status, dtype: int64\n"
     ]
    }
   ],
   "source": [
    "print(all_data.project_status.value_counts())"
   ]
  },
  {
   "cell_type": "markdown",
   "metadata": {},
   "source": [
    "## Save the preprocess \n",
    "In this paragraph we save the pre-process data set before the effect transformation."
   ]
  },
  {
   "cell_type": "code",
   "execution_count": 87,
   "metadata": {},
   "outputs": [],
   "source": [
    "all_data.to_csv(\"../data/dulux_preprocess.csv\")"
   ]
  },
  {
   "cell_type": "markdown",
   "metadata": {},
   "source": [
    "## The split of data set\n",
    "As mentioned the qualification_level_code_text is defined by Warn or Hot, we do a natural log transforation, which still gives us a bimodal distribution, due to the fact of transparency linear model is of choice and therefor the distribution of this variable is not reall suitable.\n",
    "The other point and as mentioned in EDA, there is clear dihhereces between both, first this is judgement and then the project are different. "
   ]
  },
  {
   "cell_type": "code",
   "execution_count": 42,
   "metadata": {},
   "outputs": [],
   "source": [
    "# We do a log transformed and then split in warm and hot \n",
    "# The varaiables used have been selected based on the analysis of the effect\n",
    "all_data['log_value']  = np.log(all_data['value'])\n",
    "variable_name =['opportunity','type','log_value', 'account_state', 'project_status', 'projectstage', 'consistency_status_code_text', 'life_cycle_status_code_text']\n",
    "# Split \n",
    "warm_data  = all_data[ all_data['qualification_level_code_text'] =='Warm']\n",
    "hot_data   = all_data[ all_data['qualification_level_code_text'] =='Hot' ]\n",
    "#  Reduce \n",
    "col_pos =[]\n",
    "for ref in variable_name:\n",
    "        col_pos.append(all_data.columns.get_loc(ref))\n",
    "        \n",
    "warm_data  = warm_data.iloc[:,col_pos]    \n",
    "hot_data   = hot_data.iloc[:,col_pos]        "
   ]
  },
  {
   "cell_type": "markdown",
   "metadata": {},
   "source": [
    "## The variables and distribution\n",
    "In this section we would like to check the effect of the variable on the response. In this case specially project status and the big effect category, this variable has been modified in a standard way. For information it was done during the first part of the EDA using an internal method the now part of package vtreat.\n",
    "\n",
    "The Winner Annouced and Main Contrctor have not been added due to their high unbalance zero in ine case and 50% in the other. \n",
    "\n",
    "In this section we work on the full data set. "
   ]
  },
  {
   "cell_type": "code",
   "execution_count": 43,
   "metadata": {},
   "outputs": [
    {
     "data": {
      "text/html": [
       "<div>\n",
       "<style scoped>\n",
       "    .dataframe tbody tr th:only-of-type {\n",
       "        vertical-align: middle;\n",
       "    }\n",
       "\n",
       "    .dataframe tbody tr th {\n",
       "        vertical-align: top;\n",
       "    }\n",
       "\n",
       "    .dataframe thead th {\n",
       "        text-align: right;\n",
       "    }\n",
       "</style>\n",
       "<table border=\"1\" class=\"dataframe\">\n",
       "  <thead>\n",
       "    <tr style=\"text-align: right;\">\n",
       "      <th>project_status</th>\n",
       "      <th>Abandoned</th>\n",
       "      <th>Appeal Lodged</th>\n",
       "      <th>Competition / Design Tender</th>\n",
       "      <th>Construction Certificate Submitted</th>\n",
       "      <th>Construction Commenced</th>\n",
       "      <th>Contract Awarded/Builder Apptd</th>\n",
       "      <th>Deferred</th>\n",
       "      <th>Development Application</th>\n",
       "      <th>Expressions / Registrations of Interest</th>\n",
       "      <th>Feasibility/EIS/Submission of Proposals/Master Planning</th>\n",
       "      <th>Main Contractor On Site</th>\n",
       "      <th>Site for Sale</th>\n",
       "      <th>Sketch plans</th>\n",
       "      <th>Tenderers Named</th>\n",
       "      <th>Tenders Closed Contract not yet Let</th>\n",
       "      <th>Winner Announced / Contract Awarded</th>\n",
       "      <th>big_effect</th>\n",
       "    </tr>\n",
       "    <tr>\n",
       "      <th>opportunity</th>\n",
       "      <th></th>\n",
       "      <th></th>\n",
       "      <th></th>\n",
       "      <th></th>\n",
       "      <th></th>\n",
       "      <th></th>\n",
       "      <th></th>\n",
       "      <th></th>\n",
       "      <th></th>\n",
       "      <th></th>\n",
       "      <th></th>\n",
       "      <th></th>\n",
       "      <th></th>\n",
       "      <th></th>\n",
       "      <th></th>\n",
       "      <th></th>\n",
       "      <th></th>\n",
       "    </tr>\n",
       "  </thead>\n",
       "  <tbody>\n",
       "    <tr>\n",
       "      <th>0</th>\n",
       "      <td>91</td>\n",
       "      <td>90</td>\n",
       "      <td>60</td>\n",
       "      <td>235</td>\n",
       "      <td>351</td>\n",
       "      <td>212</td>\n",
       "      <td>288</td>\n",
       "      <td>473</td>\n",
       "      <td>68</td>\n",
       "      <td>311</td>\n",
       "      <td>10</td>\n",
       "      <td>74</td>\n",
       "      <td>66</td>\n",
       "      <td>398</td>\n",
       "      <td>380</td>\n",
       "      <td>12</td>\n",
       "      <td>1922</td>\n",
       "    </tr>\n",
       "    <tr>\n",
       "      <th>1</th>\n",
       "      <td>1</td>\n",
       "      <td>5</td>\n",
       "      <td>0</td>\n",
       "      <td>5</td>\n",
       "      <td>49</td>\n",
       "      <td>11</td>\n",
       "      <td>10</td>\n",
       "      <td>25</td>\n",
       "      <td>2</td>\n",
       "      <td>13</td>\n",
       "      <td>0</td>\n",
       "      <td>0</td>\n",
       "      <td>6</td>\n",
       "      <td>62</td>\n",
       "      <td>7</td>\n",
       "      <td>6</td>\n",
       "      <td>99</td>\n",
       "    </tr>\n",
       "  </tbody>\n",
       "</table>\n",
       "</div>"
      ],
      "text/plain": [
       "project_status  Abandoned  Appeal Lodged  Competition / Design Tender  \\\n",
       "opportunity                                                             \n",
       "0                      91             90                           60   \n",
       "1                       1              5                            0   \n",
       "\n",
       "project_status  Construction Certificate Submitted  Construction Commenced  \\\n",
       "opportunity                                                                  \n",
       "0                                              235                     351   \n",
       "1                                                5                      49   \n",
       "\n",
       "project_status  Contract Awarded/Builder Apptd  Deferred  \\\n",
       "opportunity                                                \n",
       "0                                          212       288   \n",
       "1                                           11        10   \n",
       "\n",
       "project_status  Development Application  \\\n",
       "opportunity                               \n",
       "0                                   473   \n",
       "1                                    25   \n",
       "\n",
       "project_status  Expressions / Registrations of Interest  \\\n",
       "opportunity                                               \n",
       "0                                                    68   \n",
       "1                                                     2   \n",
       "\n",
       "project_status  Feasibility/EIS/Submission of Proposals/Master Planning  \\\n",
       "opportunity                                                               \n",
       "0                                                             311         \n",
       "1                                                              13         \n",
       "\n",
       "project_status  Main Contractor On Site  Site for Sale  Sketch plans  \\\n",
       "opportunity                                                            \n",
       "0                                    10             74            66   \n",
       "1                                     0              0             6   \n",
       "\n",
       "project_status  Tenderers Named  Tenders Closed Contract not yet Let  \\\n",
       "opportunity                                                            \n",
       "0                           398                                  380   \n",
       "1                            62                                    7   \n",
       "\n",
       "project_status  Winner Announced / Contract Awarded  big_effect  \n",
       "opportunity                                                      \n",
       "0                                                12        1922  \n",
       "1                                                 6          99  "
      ]
     },
     "execution_count": 43,
     "metadata": {},
     "output_type": "execute_result"
    }
   ],
   "source": [
    "pd.crosstab( all_data['opportunity'],\n",
    "             all_data['project_status'])"
   ]
  },
  {
   "cell_type": "markdown",
   "metadata": {},
   "source": [
    "## The warm mode\n",
    "In the step of this section is as follow:\n",
    "1. Build the transformed data set and rmove the proportions\n",
    "2. Build the logitics regression \n",
    "3. Metrics\n",
    "The Python sklearn package has some limits in Python concerning statistcal tests."
   ]
  },
  {
   "cell_type": "code",
   "execution_count": 44,
   "metadata": {},
   "outputs": [],
   "source": [
    "# In python we have to extract the response \n",
    "opportunity      = np.asarray(warm_data['opportunity'])\n",
    "warm_independent = warm_data.drop(['opportunity'],axis=1)"
   ]
  },
  {
   "cell_type": "markdown",
   "metadata": {},
   "source": [
    "Build the transformation for Warm data set, we have to remove the prevalence. "
   ]
  },
  {
   "cell_type": "code",
   "execution_count": 45,
   "metadata": {},
   "outputs": [],
   "source": [
    "plan       = vtreat.BinomialOutcomeTreatment(outcome_target=True)\n",
    "warm_trans = plan.fit_transform(warm_independent, opportunity)\n",
    "# Just to check we have all advised we still remove prevalence\n",
    "model_vars = np.asarray(plan.score_frame_[\"variable\"][plan.score_frame_[\"recommended\"]])\n",
    "warm_trans =warm_trans.drop(['account_state_prevalence_code','life_cycle_status_code_text_prevalence_code','projectstage_prevalence_code','type_prevalence_code' ], axis=1)"
   ]
  },
  {
   "cell_type": "markdown",
   "metadata": {},
   "source": [
    "Build the logitic regression, we have the warm data set, the transformation could be improved, we use the binomial already. \n",
    "In Python we have to increase the number of iteration (Python integrated some attribute but does not integrate regularisation for logistice regression which is a challenge here due to liner seperation). \n",
    "\n",
    "It appears that the MLE is different from other environment such as SAS or R, which is rather disturbing. "
   ]
  },
  {
   "cell_type": "code",
   "execution_count": 46,
   "metadata": {},
   "outputs": [],
   "source": [
    "warm_model=LogisticRegression(max_iter= 200) \n",
    "warm_model.fit( warm_trans   ,opportunity )\n",
    "warm_predict = warm_model.predict( warm_trans)"
   ]
  },
  {
   "cell_type": "markdown",
   "metadata": {},
   "source": [
    "The confusion matrix for Warm is as expected and good as shown below:"
   ]
  },
  {
   "cell_type": "code",
   "execution_count": 11,
   "metadata": {},
   "outputs": [
    {
     "name": "stdout",
     "output_type": "stream",
     "text": [
      "[[4283   30]\n",
      " [   2  114]]\n"
     ]
    }
   ],
   "source": [
    "cnf_matrix = confusion_matrix(opportunity, warm_predict)\n",
    "print(cnf_matrix)\n"
   ]
  },
  {
   "cell_type": "markdown",
   "metadata": {},
   "source": [
    "The prediction distribution is the following, we can notice the perfect separation, which explain the cut-of of .5."
   ]
  },
  {
   "cell_type": "code",
   "execution_count": 12,
   "metadata": {},
   "outputs": [
    {
     "data": {
      "image/png": "[encoded data removed]",
      "text/plain": [
       "<Figure size 432x288 with 1 Axes>"
      ]
     },
     "metadata": {
      "needs_background": "light"
     },
     "output_type": "display_data"
    }
   ],
   "source": [
    "dsp_tmp =plt.hist( warm_predict, bins=100, facecolor='blue', linewidth =1)\n",
    "x_note= plt.xlabel('logit')\n",
    "y_note= plt.ylabel('Frequency')\n",
    "tiitle_note =plt.title('Warm prediction')"
   ]
  },
  {
   "cell_type": "markdown",
   "metadata": {},
   "source": [
    "For Warm we could sustain that the model even if simple could deliver good reults.\n",
    "## The hot model\n",
    "The hot model is strutured as the warm model, the difference will in the significance of the variables. In this case we have more false positive than with the maximum likelihood of glm, but the results are evry acceptable.\n"
   ]
  },
  {
   "cell_type": "code",
   "execution_count": 28,
   "metadata": {},
   "outputs": [
    {
     "name": "stdout",
     "output_type": "stream",
     "text": [
      "[[693  35]\n",
      " [  0 185]]\n"
     ]
    }
   ],
   "source": [
    "# The hot model follows the warm model\n",
    "opportunity_hot = np.asarray(hot_data['opportunity'])\n",
    "hot_independent = hot_data.drop(['opportunity'],axis=1)\n",
    "plan_hot        = vtreat.BinomialOutcomeTreatment(outcome_target=True)\n",
    "hot_trans       = plan_hot.fit_transform(hot_independent, opportunity_hot)\n",
    "hot_model       =LogisticRegression(max_iter= 200)\n",
    "hot_model.fit( hot_trans   ,opportunity_hot )\n",
    "hot_predict = hot_model.predict( hot_trans)\n",
    "hot_matrix   = confusion_matrix(opportunity_hot, hot_predict)\n",
    "print(hot_matrix)"
   ]
  },
  {
   "cell_type": "markdown",
   "metadata": {},
   "source": [
    "The prediction of the hot subsample, as with warn the badly classified are certainly exception we could not modelise with the current information."
   ]
  },
  {
   "cell_type": "code",
   "execution_count": 14,
   "metadata": {},
   "outputs": [
    {
     "data": {
      "image/png": "[encoded data removed]",
      "text/plain": [
       "<Figure size 432x288 with 1 Axes>"
      ]
     },
     "metadata": {
      "needs_background": "light"
     },
     "output_type": "display_data"
    }
   ],
   "source": [
    "dsp_tmp =plt.hist( hot_predict, bins=100, facecolor='orange', linewidth =1)\n",
    "x_note= plt.xlabel('logit')\n",
    "y_note= plt.ylabel('Frequency')\n",
    "tiitle_note =plt.title('Hot prediction')"
   ]
  },
  {
   "cell_type": "markdown",
   "metadata": {},
   "source": [
    "The metrics is the following accuracy, which is good. as shown above we have some false positive as mentioned below do we consider tem as model error or only that they have not been taken into marketing action is a question. \n",
    "\n",
    "Accuracy: "
   ]
  },
  {
   "cell_type": "code",
   "execution_count": 47,
   "metadata": {},
   "outputs": [
    {
     "data": {
      "text/plain": [
       "0.962"
      ]
     },
     "execution_count": 47,
     "metadata": {},
     "output_type": "execute_result"
    }
   ],
   "source": [
    "round((hot_matrix[0,0]+ hot_matrix[1,1])/ (hot_matrix[0,0]+ hot_matrix[1,0]+hot_matrix[0,1]+ hot_matrix[1,1]), 3)"
   ]
  },
  {
   "cell_type": "markdown",
   "metadata": {},
   "source": [
    "# Exploration mixed model\n",
    "In this section we male the hypothesis of mixed effect moodels, that is a random effect based on the War Hot. the aim is to see if we could build one model.\n",
    "The exploration using Python has not been successful as the implementation can not cope with near singular design matrix. It seems that Sklearn coul, which is surprising!!!"
   ]
  },
  {
   "cell_type": "code",
   "execution_count": 90,
   "metadata": {},
   "outputs": [],
   "source": [
    "variable_name_2 =['opportunity','type','log_value', 'account_state', 'project_status', 'projectstage', 'consistency_status_code_text', 'life_cycle_status_code_text', 'qualification_level_code_text']\n",
    "col_pos =[]\n",
    "for ref in variable_name_2:\n",
    "        col_pos.append(all_data.columns.get_loc(ref))\n",
    "mixed_data  = all_data.iloc[:,col_pos] \n",
    "\n",
    "opportunity_all      = np.asarray(mixed_data['opportunity'])\n",
    "independent_all      = mixed_data.drop(['opportunity'],axis=1)\n",
    "\n",
    "# the transformation \n",
    "plan       = vtreat.BinomialOutcomeTreatment(outcome_target=True)\n",
    "all_trans = plan.fit_transform(independent_all, opportunity_all)\n",
    "\n",
    "model_vars_all = np.asarray(plan.score_frame_[\"variable\"][plan.score_frame_[\"recommended\"]])\n",
    "all_trans_1 =all_trans.drop(['projectstage_prevalence_code','life_cycle_status_code_text_prevalence_code', 'consistency_status_code_text_prevalence_code','qualification_level_code_text_prevalence_code','type_prevalence_code' ], axis=1)\n",
    "all_trans_1['opportunity'] =mixed_data['opportunity']\n"
   ]
  },
  {
   "cell_type": "markdown",
   "metadata": {},
   "source": [
    "We build the mixed effect base on qualification_level_code_text, the cofidence interval of the coefficients is made using Wald test.  \n",
    "1. We face an issue of covergence in case of building one model with Hot and Warm and this after process with vtreat, which is surprising. \n",
    "2. With mixed effect no per-process with vtreat, we can not converge either, Python can not cope with near singular design matrix !!!"
   ]
  },
  {
   "cell_type": "code",
   "execution_count": 96,
   "metadata": {},
   "outputs": [],
   "source": [
    "model_logit_all =  smf.logit(\"opportunity ~log_value+ account_state_logit_code+ account_state_lev_NSW+account_state_lev_NZ+account_state_lev_QLD+qualification_level_code_text_logit_code+qualification_level_code_text_lev_Warm+qualification_level_code_text_lev_Hot+projectstage_logit_code+projectstage_lev_Documentation+type_logit_code+type_lev_other+type_lev_townhouse+type_lev_apartment+consistency_status_code_text_logit_code+project_status_logit_code+life_cycle_status_code_text_logit_code+life_cycle_status_code_text_lev_Qualified\", data = all_trans_1)\n",
    "# model_logit_all.fit(maxiter=1000)"
   ]
  },
  {
   "cell_type": "code",
   "execution_count": 101,
   "metadata": {},
   "outputs": [],
   "source": [
    "# Using the full data set we have na - removed \n",
    "mixed_data_na = mixed_data.dropna()\n",
    "mixed_model= Lmer(\"opportunity ~ log_value+type+account_state+project_status +projectstage+consistency_status_code_text+life_cycle_status_code_text+(1|qualification_level_code_text )\",  data=mixed_data, family = 'binomial')"
   ]
  },
  {
   "cell_type": "code",
   "execution_count": 102,
   "metadata": {},
   "outputs": [],
   "source": [
    "# back = mixed_model.fit()"
   ]
  },
  {
   "cell_type": "markdown",
   "metadata": {},
   "source": [
    "# Conclusion\n",
    "The prediction of opportunity based on the current data set is very possible, one should keep in mind that it appears that in both model the opportunity made not made are obviously lienearly separable (not very visible in the report, Python does not support the type exact logistic regression either) therefor a perfect separation is possible as shown in the results. \n",
    "\n",
    "The advantage of the model presented is the lower dimension of X, in this case p = 16 therefore the Beta have low maximum errrors.\n",
    "\n",
    "Further analysis is certainly necessary and the main message is first fix the date entries, which are obviously far from perfact.  \n",
    "\n",
    "One area, which could be of interest and based on bot Warm and Hot is the badly classify, as showm the model is nearly perfect with clear separation, therefore we could infer that we have information missing to have better results.\n",
    "\n",
    "\n"
   ]
  }
 ],
 "metadata": {
  "kernelspec": {
   "display_name": "Python 3",
   "language": "python",
   "name": "python3"
  },
  "language_info": {
   "codemirror_mode": {
    "name": "ipython",
    "version": 3
   },
   "file_extension": ".py",
   "mimetype": "text/x-python",
   "name": "python",
   "nbconvert_exporter": "python",
   "pygments_lexer": "ipython3",
   "version": "3.7.6"
  }
 },
 "nbformat": 4,
 "nbformat_minor": 4
}

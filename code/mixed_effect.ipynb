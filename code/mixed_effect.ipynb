{
 "cells": [
  {
   "cell_type": "markdown",
   "metadata": {},
   "source": [
    "# Exploration\n",
    "In this document we work using a new method, based on tree. In the previous exploration we mentioned that the classification using logistic regression is associated with linearity speration and there is no regularisation in the nevironment, it possible to implement it but we did not take this option yet (perhaps later).\n",
    "Tree oriented is a solution to avoid the instabilty associated with linearity separation, in this document we explore the mixed effect based on the customer, we notice in the initial EDA that the customer aer not always transformed in opportunities, in this document we analyse this pattern.\n"
   ]
  },
  {
   "cell_type": "code",
   "execution_count": 13,
   "metadata": {},
   "outputs": [],
   "source": [
    "import gpboost as gbp\n",
    "import pandas  as pd\n",
    "import numpy   as np\n",
    "import vtreat\n"
   ]
  },
  {
   "cell_type": "markdown",
   "metadata": {},
   "source": [
    "# The data set\n",
    "We import the same data set as in the model notebook after pre process of the varaibles project_status and type. In the model document we use the conditional probability of the the effect after the transformation of type, as we rae with tree we shall do the following:\n",
    "\n",
    "1. Test the mixed effect boostiong without conditional probability\n",
    "2. Test with with conditional probability"
   ]
  },
  {
   "cell_type": "code",
   "execution_count": 10,
   "metadata": {},
   "outputs": [],
   "source": [
    "# We read our data they have been prepared\n",
    "all_data = pd.read_csv(\"../data/dulux_preprocess.csv\")"
   ]
  },
  {
   "cell_type": "markdown",
   "metadata": {},
   "source": [
    "For information, we have the following variables in this data set, as mentioned we use a sub-set. As note we can admire the precision of Python!!!"
   ]
  },
  {
   "cell_type": "code",
   "execution_count": 11,
   "metadata": {},
   "outputs": [
    {
     "name": "stdout",
     "output_type": "stream",
     "text": [
      "<class 'pandas.core.frame.DataFrame'>\n",
      "RangeIndex: 5342 entries, 0 to 5341\n",
      "Data columns (total 24 columns):\n",
      " #   Column                               Non-Null Count  Dtype  \n",
      "---  ------                               --------------  -----  \n",
      " 0   Unnamed: 0                           5342 non-null   int64  \n",
      " 1   Unnamed: 0.1                         5342 non-null   int64  \n",
      " 2   projectid                            5342 non-null   int64  \n",
      " 3   name                                 5342 non-null   object \n",
      " 4   company                              5342 non-null   object \n",
      " 5   qualification_level_code_text        5342 non-null   object \n",
      " 6   user_status_code_text                5342 non-null   object \n",
      " 7   account_life_cycle_status_code_text  5342 non-null   object \n",
      " 8   priority_code_text                   5342 non-null   object \n",
      " 9   group_code_text                      5342 non-null   object \n",
      " 10  account_state                        5307 non-null   object \n",
      " 11  consistency_status_code_text         5342 non-null   object \n",
      " 12  project_type                         5342 non-null   object \n",
      " 13  projectstage                         5342 non-null   object \n",
      " 14  project_status                       5342 non-null   object \n",
      " 15  remarks                              5342 non-null   object \n",
      " 16  origin_type_code_text                5342 non-null   object \n",
      " 17  life_cycle_status_code_text          5342 non-null   object \n",
      " 18  value                                5342 non-null   int64  \n",
      " 19  opportunity                          5342 non-null   int64  \n",
      " 20  creation_date                        5342 non-null   object \n",
      " 21  beg_date                             5342 non-null   object \n",
      " 22  log_value                            5342 non-null   float64\n",
      " 23  type                                 5342 non-null   object \n",
      "dtypes: float64(1), int64(5), object(18)\n",
      "memory usage: 1001.8+ KB\n"
     ]
    }
   ],
   "source": [
    "all_data.info()"
   ]
  },
  {
   "cell_type": "markdown",
   "metadata": {},
   "source": [
    "## Tranaformation for mixed effect\n",
    "As we work with mixed model we have other transformations, "
   ]
  },
  {
   "cell_type": "code",
   "execution_count": null,
   "metadata": {},
   "outputs": [],
   "source": []
  },
  {
   "cell_type": "markdown",
   "metadata": {},
   "source": [
    "As in the model, we build Hot and Warm, we shall work on Hot only in this document as we do an exploration. "
   ]
  },
  {
   "cell_type": "code",
   "execution_count": 14,
   "metadata": {},
   "outputs": [],
   "source": [
    "# We do a log transformed and then split in warm and hot \n",
    "# The varaiables used have been selected based on the analysis of the effect\n",
    "all_data['log_value']  = np.log(all_data['value'])\n",
    "variable_name =[ 'company', 'opportunity','type','log_value', 'account_state', 'project_status', 'projectstage', 'consistency_status_code_text', 'life_cycle_status_code_text']\n",
    "# Split \n",
    "warm_data  = all_data[ all_data['qualification_level_code_text'] =='Warm']\n",
    "hot_data   = all_data[ all_data['qualification_level_code_text'] =='Hot' ]\n",
    "#  Reduce \n",
    "col_pos =[]\n",
    "for ref in variable_name:\n",
    "        col_pos.append(all_data.columns.get_loc(ref))\n",
    "        \n",
    "warm_data  = warm_data.iloc[:,col_pos]    \n",
    "hot_data   = hot_data.iloc[:,col_pos]       "
   ]
  },
  {
   "cell_type": "code",
   "execution_count": null,
   "metadata": {},
   "outputs": [],
   "source": []
  },
  {
   "cell_type": "markdown",
   "metadata": {},
   "source": [
    "# Mixed model & Boosting\n"
   ]
  },
  {
   "cell_type": "code",
   "execution_count": null,
   "metadata": {},
   "outputs": [],
   "source": []
  }
 ],
 "metadata": {
  "kernelspec": {
   "display_name": "Python 3",
   "language": "python",
   "name": "python3"
  },
  "language_info": {
   "codemirror_mode": {
    "name": "ipython",
    "version": 3
   },
   "file_extension": ".py",
   "mimetype": "text/x-python",
   "name": "python",
   "nbconvert_exporter": "python",
   "pygments_lexer": "ipython3",
   "version": "3.7.6"
  }
 },
 "nbformat": 4,
 "nbformat_minor": 4
}

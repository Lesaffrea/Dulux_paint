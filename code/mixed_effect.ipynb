{
 "cells": [
  {
   "cell_type": "markdown",
   "metadata": {},
   "source": [
    "# Exploration\n",
    "In this document we work using a new method, based on tree. In the previous exploration we mentioned that the classification using logistic regression is associated with linearity speration and there is no regularisation in the Python environment for logistic regression, it is possible to implement regularisation but we did not take this option yet (perhaps later).\n",
    "Tree oriented is a solution to avoid the instabilty associated with linearity separation, in this document we explore the mixed effect based on the customers (Hot, Warm), this couls allow us to build one model instead of two. \n",
    "\n",
    "For information mixed effect has been tested with statmodels, the implementation of the logitic or mixed effect was not able to deal with the near singularity of the desing matrix, therefore Boosting could be a solution. \n",
    "\n",
    "The tree boosting gives very good results to be taken with care as we do not use a valiadation set. "
   ]
  },
  {
   "cell_type": "code",
   "execution_count": 148,
   "metadata": {},
   "outputs": [],
   "source": [
    "import gpboost as gpb\n",
    "import pandas  as pd\n",
    "import numpy   as np\n",
    "import vtreat\n",
    "# For some display\n",
    "import matplotlib.pyplot as plt\n",
    "# for the end \n",
    "from sklearn.metrics  import confusion_matrix"
   ]
  },
  {
   "cell_type": "markdown",
   "metadata": {},
   "source": [
    "# The data set\n",
    "We import the same data set as in the model notebook after pre process of the varaibles project_status and type. In the model document we use the conditional probability of the the effect after the transformation of type, as we rae with tree we shall do the following:\n",
    "\n",
    "1. Test the mixed effect boostiong without conditional probability\n",
    "2. Test with with conditional probability"
   ]
  },
  {
   "cell_type": "code",
   "execution_count": 10,
   "metadata": {},
   "outputs": [],
   "source": [
    "# We read our data they have been prepared\n",
    "all_data = pd.read_csv(\"../data/dulux_preprocess.csv\")"
   ]
  },
  {
   "cell_type": "markdown",
   "metadata": {},
   "source": [
    "For information, we have the following variables in this data set, as mentioned we use a sub-set. As note we can admire the precision of Python!!!"
   ]
  },
  {
   "cell_type": "markdown",
   "metadata": {},
   "source": [
    "## Transformation for mixed effect\n",
    "As we work with mixed model we have other transformations, "
   ]
  },
  {
   "cell_type": "markdown",
   "metadata": {},
   "source": [
    "As in the model, we build Hot and Warm, we shall work on Hot only in this document as we do an exploration. "
   ]
  },
  {
   "cell_type": "code",
   "execution_count": 117,
   "metadata": {},
   "outputs": [],
   "source": [
    "# We do a log transformed and then split in warm and hot \n",
    "# The varaibles used have been selected based on the analysis of the effect\n",
    "all_data['log_value']  = np.log(all_data['value'])\n",
    "variable_name =['opportunity','type','log_value', 'account_state', 'project_status', 'projectstage', 'consistency_status_code_text', 'life_cycle_status_code_text','qualification_level_code_text']\n",
    "# Split \n",
    "warm_data  = all_data[ all_data['qualification_level_code_text'] =='Warm']\n",
    "hot_data   = all_data[ all_data['qualification_level_code_text'] =='Hot' ]\n",
    "#  Reduce \n",
    "col_pos =[]\n",
    "for ref in variable_name:\n",
    "        col_pos.append(all_data.columns.get_loc(ref))\n",
    "        \n",
    "warm_data  = warm_data.iloc[:,col_pos]    \n",
    "hot_data   = hot_data.iloc[:,col_pos]    \n",
    "all_model_data = all_data.iloc[:,col_pos]\n",
    "# We have to build the grouping of qualification_level_code_text\n",
    "group_qual = np.where(all_model_data['qualification_level_code_text'] =='Warm',0,1)\n",
    "params_delux = { 'objective': 'regression_l2', 'learning_rate': 0.1, 'max_depth': 6, 'min_data_in_leaf': 5, 'verbose': 0 }        \n",
    "#  Build tfor data set boostion mixed effect \n",
    "response_mixed = np.array( all_model_data['opportunity'])\n",
    "variable_mixed   = all_model_data.drop(['opportunity','qualification_level_code_text' ], axis=1)\n"
   ]
  },
  {
   "cell_type": "code",
   "execution_count": 132,
   "metadata": {},
   "outputs": [],
   "source": [
    "# Hot encoding the function using pandas for hot encosing \n",
    "def encode_and_bind(original_dataframe, feature_to_encode):\n",
    "    dummies = pd.get_dummies(original_dataframe[[feature_to_encode]])\n",
    "    res = pd.concat([original_dataframe, dummies], axis=1)\n",
    "    res = res.drop([feature_to_encode], axis=1)\n",
    "    return(res)\n",
    "to_encode =[ 'type','account_state', 'project_status', 'projectstage', 'consistency_status_code_text', 'life_cycle_status_code_text']\n",
    "# test = encode_and_bind(variable_mixed , 'type' )\n",
    "variable_mixed_encoded = variable_mixed\n",
    "for feature in to_encode:\n",
    "    variable_mixed_encoded = encode_and_bind(variable_mixed_encoded, feature)"
   ]
  },
  {
   "cell_type": "markdown",
   "metadata": {},
   "source": [
    "After hot encodding we can proceed, with boosting "
   ]
  },
  {
   "cell_type": "code",
   "execution_count": 135,
   "metadata": {},
   "outputs": [
    {
     "name": "stdout",
     "output_type": "stream",
     "text": [
      "[GPBoost] [Warning] Find whitespaces in feature_names, replace with underlines\n"
     ]
    }
   ],
   "source": [
    "mixed_model_train = gpb.Dataset(variable_mixed_encoded , response_mixed)\n",
    "gaussian_mixed  = gpb.GPModel(group_data=group_qual)\n",
    "boost_mixed     = gbp.train(params=params_delux, train_set=mixed_model_train, gp_model=gaussian_mixed, num_boost_round=32)"
   ]
  },
  {
   "cell_type": "markdown",
   "metadata": {},
   "source": [
    "We do the rediction and then the metrics, the point we are binary there so we have to check the distribution"
   ]
  },
  {
   "cell_type": "code",
   "execution_count": 138,
   "metadata": {},
   "outputs": [
    {
     "name": "stdout",
     "output_type": "stream",
     "text": [
      "0.18099118531770864\n"
     ]
    }
   ],
   "source": [
    "opportunity_predict = boost_mixed.predict(data=variable_mixed_encoded, group_data_pred=group_qual)\n",
    "y_pred = opportunity_predict['fixed_effect'] + opportunity_predict['random_effect_mean'] # sum predictions of fixed effect and random effect\n",
    "print(np.sqrt(np.mean((response_mixed - y_pred) ** 2)) )# root mean square error (RMSE) on test data. Approx. = 1.25"
   ]
  },
  {
   "cell_type": "markdown",
   "metadata": {},
   "source": [
    "The prediction distritbution is the following, we can notice the upper prediction"
   ]
  },
  {
   "cell_type": "code",
   "execution_count": 141,
   "metadata": {},
   "outputs": [
    {
     "data": {
      "text/plain": [
       "Text(0, 0.5, 'Frequency')"
      ]
     },
     "execution_count": 141,
     "metadata": {},
     "output_type": "execute_result"
    },
    {
     "data": {
      "image/png": "[encoded data removed]",
      "text/plain": [
       "<Figure size 432x288 with 1 Axes>"
      ]
     },
     "metadata": {
      "needs_background": "light"
     },
     "output_type": "display_data"
    }
   ],
   "source": [
    "n, bins, patches = plt.hist(x=y_pred, bins='auto', alpha=0.7, rwidth=0.5)\n",
    "plt.xlabel('Value')\n",
    "plt.ylabel('Frequency')"
   ]
  },
  {
   "cell_type": "markdown",
   "metadata": {},
   "source": [
    "As in case of probability we do a cut-off at .5 , the result is perfect. We certainly over fit but still with out of bag we can check this surprising results, if it hold. The out of bag will have to be build with care as we have some category with low cardinality, one taken out could be better if we could afford the computation. "
   ]
  },
  {
   "cell_type": "code",
   "execution_count": 156,
   "metadata": {},
   "outputs": [
    {
     "name": "stdout",
     "output_type": "stream",
     "text": [
      "[[5041    0]\n",
      " [   0  301]]\n"
     ]
    }
   ],
   "source": [
    "predict_corrected = np.where(response_mixed > .5 ,1,0)\n",
    "hot_matrix   = confusion_matrix(response_mixed, predict_corrected)\n",
    "print(hot_matrix)"
   ]
  },
  {
   "cell_type": "markdown",
   "metadata": {},
   "source": [
    "### Variables of importance \n",
    "As we want some explanation we add the varaiable of importance, as expected the most important is the log value with project status and location WA, which is new in way that it appears after clusetring during the first EDA, follow by big_effect which is the synthatic value and type commercial. \n",
    "The main change here is WA which appears as highly rated. "
   ]
  },
  {
   "cell_type": "code",
   "execution_count": 157,
   "metadata": {},
   "outputs": [
    {
     "data": {
      "text/plain": [
       "<AxesSubplot:title={'center':'Feature importance'}, xlabel='Feature importance', ylabel='Features'>"
      ]
     },
     "execution_count": 157,
     "metadata": {},
     "output_type": "execute_result"
    },
    {
     "data": {
      "image/png": "[encoded data removed]",
      "text/plain": [
       "<Figure size 432x288 with 1 Axes>"
      ]
     },
     "metadata": {
      "needs_background": "light"
     },
     "output_type": "display_data"
    }
   ],
   "source": [
    "gpb.plot_importance(boost_mixed)"
   ]
  },
  {
   "cell_type": "markdown",
   "metadata": {},
   "source": [
    "# Example mixed model & Boosting\n",
    "The follwing lines were a test of some random effects, to check how the model reacts. "
   ]
  },
  {
   "cell_type": "code",
   "execution_count": 66,
   "metadata": {},
   "outputs": [],
   "source": [
    "import sklearn.datasets as datasets\n",
    "m       = 500  # number of categories / levels for grouping variable\n",
    "n       = 10000\n",
    "ntrain  = 5000\n",
    "np.random.seed(35)\n",
    "rd_x, rd_f = datasets.make_friedman3( n_samples=ntrain)  # Non linear generation\n",
    "#  Build the  variates\n",
    "pd_x = pd.DataFrame(rd_x,columns=['variable_1','variable_2','variable_3','variable_4'])\n",
    "# The fixed effect \n",
    "rd_f = rd_f * 10**0.5"
   ]
  },
  {
   "cell_type": "markdown",
   "metadata": {},
   "source": [
    "Show the fixed effect distribution "
   ]
  },
  {
   "cell_type": "code",
   "execution_count": 68,
   "metadata": {},
   "outputs": [
    {
     "data": {
      "text/plain": [
       "(0.0, 800.0)"
      ]
     },
     "execution_count": 68,
     "metadata": {},
     "output_type": "execute_result"
    },
    {
     "data": {
      "image/png": "[encoded data removed]",
      "text/plain": [
       "<Figure size 432x288 with 1 Axes>"
      ]
     },
     "metadata": {
      "needs_background": "light"
     },
     "output_type": "display_data"
    }
   ],
   "source": [
    "n, bins, patches = plt.hist(x=rd_f, bins='auto', alpha=0.7, rwidth=0.85)\n",
    "plt.grid(axis='y', alpha=0.75)\n",
    "plt.xlabel('Value')\n",
    "plt.ylabel('Frequency')\n",
    "plt.ylim(ymax=800)\n"
   ]
  },
  {
   "cell_type": "code",
   "execution_count": 69,
   "metadata": {},
   "outputs": [],
   "source": [
    "# Simulate random effects we build the groups index \n",
    "group_train = np.arange(ntrain)  # grouping variable\n",
    "for i in range(m):\n",
    "    group_train[int(i * ntrain / m):int((i + 1) * ntrain / m)] = i"
   ]
  },
  {
   "cell_type": "markdown",
   "metadata": {},
   "source": [
    "We build the train data set with response and random effect "
   ]
  },
  {
   "cell_type": "code",
   "execution_count": 70,
   "metadata": {},
   "outputs": [],
   "source": [
    "#  Build the random effect \n",
    "sigma2_1 = 1  # random effect variance\n",
    "sigma2 = 1 ** 2  # error variance\n",
    "b = np.sqrt(sigma2_1) * np.random.normal(size=ntrain)  # simulate random effects\n",
    "\n",
    "Zb = b[group_train]\n",
    "# Put everything together for the response\n",
    "xi = np.sqrt(sigma2) * np.random.normal(size=ntrain)  # simulate error term\n",
    "y = rd_f + Zb + xi  # observed data"
   ]
  },
  {
   "cell_type": "code",
   "execution_count": 109,
   "metadata": {},
   "outputs": [
    {
     "data": {
      "text/plain": [
       "numpy.ndarray"
      ]
     },
     "execution_count": 109,
     "metadata": {},
     "output_type": "execute_result"
    }
   ],
   "source": [
    "type(y)"
   ]
  },
  {
   "cell_type": "code",
   "execution_count": null,
   "metadata": {},
   "outputs": [],
   "source": [
    "Build the model using the GP boost with example "
   ]
  },
  {
   "cell_type": "code",
   "execution_count": 81,
   "metadata": {},
   "outputs": [],
   "source": [
    "# Define and train GPModel\n",
    "gp_model = gpb.GPModel(group_data=group_train)\n",
    "# create dataset for gpb.train function\n",
    "data_train = gpb.Dataset(pd_x, y)\n",
    "# specify tree-boosting parameters as a dict\n",
    "params = { 'objective': 'regression_l2', 'learning_rate': 0.1, 'max_depth': 6, 'min_data_in_leaf': 5, 'verbose': 0 }\n",
    "# train model\n",
    "bst = gpb.train(params=params, train_set=data_train, gp_model=gp_model, num_boost_round=32)"
   ]
  },
  {
   "cell_type": "code",
   "execution_count": null,
   "metadata": {},
   "outputs": [],
   "source": [
    "We predict on the train set here, we did no build a test set as we explore. The result is not really great. "
   ]
  },
  {
   "cell_type": "code",
   "execution_count": 83,
   "metadata": {},
   "outputs": [
    {
     "name": "stdout",
     "output_type": "stream",
     "text": [
      "0.9003394820504346\n"
     ]
    }
   ],
   "source": [
    "# Make predictions\n",
    "pred = bst.predict(data=pd_x, group_data_pred=group_train)\n",
    "y_pred = pred['fixed_effect'] + pred['random_effect_mean'] # sum predictions of fixed effect and random effect\n",
    "print(np.sqrt(np.mean((y - y_pred) ** 2)) )# root mean square error (RMSE) on test data. Approx. = 1.25"
   ]
  },
  {
   "cell_type": "code",
   "execution_count": 80,
   "metadata": {},
   "outputs": [
    {
     "data": {
      "text/plain": [
       "<AxesSubplot:title={'center':'Feature importance'}, xlabel='Feature importance', ylabel='Features'>"
      ]
     },
     "execution_count": 80,
     "metadata": {},
     "output_type": "execute_result"
    },
    {
     "data": {
      "image/png": "[encoded data removed]",
      "text/plain": [
       "<Figure size 432x288 with 1 Axes>"
      ]
     },
     "metadata": {
      "needs_background": "light"
     },
     "output_type": "display_data"
    }
   ],
   "source": [
    "# Plotting feature importances\n",
    "gpb.plot_importance(bst)"
   ]
  },
  {
   "cell_type": "code",
   "execution_count": null,
   "metadata": {},
   "outputs": [],
   "source": []
  }
 ],
 "metadata": {
  "kernelspec": {
   "display_name": "Python 3",
   "language": "python",
   "name": "python3"
  },
  "language_info": {
   "codemirror_mode": {
    "name": "ipython",
    "version": 3
   },
   "file_extension": ".py",
   "mimetype": "text/x-python",
   "name": "python",
   "nbconvert_exporter": "python",
   "pygments_lexer": "ipython3",
   "version": "3.7.6"
  }
 },
 "nbformat": 4,
 "nbformat_minor": 4
}

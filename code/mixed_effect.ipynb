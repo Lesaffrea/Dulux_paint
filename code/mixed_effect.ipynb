{
 "cells": [
  {
   "cell_type": "markdown",
   "metadata": {},
   "source": [
    "# Exploration\n",
    "In this document we work using a new method, based on tree. In the previous exploration we mentioned that the classification using logistic regression is associated with linearity speration and there is no regularisation in the nevironment, it possible to implement it but we did not take this option yet (perhaps later).\n",
    "Tree oriented is a solution to avoid the instabilty associated with linearity separation, in this document we explore the mixed effect based on the customers (Hot, Warm), this couls allow us to build one model instead of two. "
   ]
  },
  {
   "cell_type": "code",
   "execution_count": 72,
   "metadata": {},
   "outputs": [],
   "source": [
    "import gpboost as gpb\n",
    "import pandas  as pd\n",
    "import numpy   as np\n",
    "import vtreat\n",
    "# For some display\n",
    "import matplotlib.pyplot as plt"
   ]
  },
  {
   "cell_type": "markdown",
   "metadata": {},
   "source": [
    "# The data set\n",
    "We import the same data set as in the model notebook after pre process of the varaibles project_status and type. In the model document we use the conditional probability of the the effect after the transformation of type, as we rae with tree we shall do the following:\n",
    "\n",
    "1. Test the mixed effect boostiong without conditional probability\n",
    "2. Test with with conditional probability"
   ]
  },
  {
   "cell_type": "code",
   "execution_count": 10,
   "metadata": {},
   "outputs": [],
   "source": [
    "# We read our data they have been prepared\n",
    "all_data = pd.read_csv(\"../data/dulux_preprocess.csv\")"
   ]
  },
  {
   "cell_type": "markdown",
   "metadata": {},
   "source": [
    "For information, we have the following variables in this data set, as mentioned we use a sub-set. As note we can admire the precision of Python!!!"
   ]
  },
  {
   "cell_type": "code",
   "execution_count": 11,
   "metadata": {},
   "outputs": [
    {
     "name": "stdout",
     "output_type": "stream",
     "text": [
      "<class 'pandas.core.frame.DataFrame'>\n",
      "RangeIndex: 5342 entries, 0 to 5341\n",
      "Data columns (total 24 columns):\n",
      " #   Column                               Non-Null Count  Dtype  \n",
      "---  ------                               --------------  -----  \n",
      " 0   Unnamed: 0                           5342 non-null   int64  \n",
      " 1   Unnamed: 0.1                         5342 non-null   int64  \n",
      " 2   projectid                            5342 non-null   int64  \n",
      " 3   name                                 5342 non-null   object \n",
      " 4   company                              5342 non-null   object \n",
      " 5   qualification_level_code_text        5342 non-null   object \n",
      " 6   user_status_code_text                5342 non-null   object \n",
      " 7   account_life_cycle_status_code_text  5342 non-null   object \n",
      " 8   priority_code_text                   5342 non-null   object \n",
      " 9   group_code_text                      5342 non-null   object \n",
      " 10  account_state                        5307 non-null   object \n",
      " 11  consistency_status_code_text         5342 non-null   object \n",
      " 12  project_type                         5342 non-null   object \n",
      " 13  projectstage                         5342 non-null   object \n",
      " 14  project_status                       5342 non-null   object \n",
      " 15  remarks                              5342 non-null   object \n",
      " 16  origin_type_code_text                5342 non-null   object \n",
      " 17  life_cycle_status_code_text          5342 non-null   object \n",
      " 18  value                                5342 non-null   int64  \n",
      " 19  opportunity                          5342 non-null   int64  \n",
      " 20  creation_date                        5342 non-null   object \n",
      " 21  beg_date                             5342 non-null   object \n",
      " 22  log_value                            5342 non-null   float64\n",
      " 23  type                                 5342 non-null   object \n",
      "dtypes: float64(1), int64(5), object(18)\n",
      "memory usage: 1001.8+ KB\n"
     ]
    }
   ],
   "source": [
    "all_data.info()"
   ]
  },
  {
   "cell_type": "markdown",
   "metadata": {},
   "source": [
    "## Tranaformation for mixed effect\n",
    "As we work with mixed model we have other transformations, "
   ]
  },
  {
   "cell_type": "code",
   "execution_count": null,
   "metadata": {},
   "outputs": [],
   "source": []
  },
  {
   "cell_type": "markdown",
   "metadata": {},
   "source": [
    "As in the model, we build Hot and Warm, we shall work on Hot only in this document as we do an exploration. "
   ]
  },
  {
   "cell_type": "code",
   "execution_count": 14,
   "metadata": {},
   "outputs": [],
   "source": [
    "# We do a log transformed and then split in warm and hot \n",
    "# The varaiables used have been selected based on the analysis of the effect\n",
    "all_data['log_value']  = np.log(all_data['value'])\n",
    "variable_name =[ 'company', 'opportunity','type','log_value', 'account_state', 'project_status', 'projectstage', 'consistency_status_code_text', 'life_cycle_status_code_text']\n",
    "# Split \n",
    "warm_data  = all_data[ all_data['qualification_level_code_text'] =='Warm']\n",
    "hot_data   = all_data[ all_data['qualification_level_code_text'] =='Hot' ]\n",
    "#  Reduce \n",
    "col_pos =[]\n",
    "for ref in variable_name:\n",
    "        col_pos.append(all_data.columns.get_loc(ref))\n",
    "        \n",
    "warm_data  = warm_data.iloc[:,col_pos]    \n",
    "hot_data   = hot_data.iloc[:,col_pos]       "
   ]
  },
  {
   "cell_type": "code",
   "execution_count": null,
   "metadata": {},
   "outputs": [],
   "source": []
  },
  {
   "cell_type": "markdown",
   "metadata": {},
   "source": [
    "# Mixed model & Boosting"
   ]
  },
  {
   "cell_type": "code",
   "execution_count": 66,
   "metadata": {},
   "outputs": [],
   "source": [
    "import sklearn.datasets as datasets\n",
    "m       = 500  # number of categories / levels for grouping variable\n",
    "n       = 10000\n",
    "ntrain  = 5000\n",
    "np.random.seed(35)\n",
    "rd_x, rd_f = datasets.make_friedman3( n_samples=ntrain)  # Non linear generation\n",
    "#  Build the  variates\n",
    "pd_x = pd.DataFrame(rd_x,columns=['variable_1','variable_2','variable_3','variable_4'])\n",
    "# The fixed effect \n",
    "rd_f = rd_f * 10**0.5"
   ]
  },
  {
   "cell_type": "markdown",
   "metadata": {},
   "source": [
    "Show the fixed effect distribution "
   ]
  },
  {
   "cell_type": "code",
   "execution_count": 68,
   "metadata": {},
   "outputs": [
    {
     "data": {
      "text/plain": [
       "(0.0, 800.0)"
      ]
     },
     "execution_count": 68,
     "metadata": {},
     "output_type": "execute_result"
    },
    {
     "data": {
      "image/png": "[encoded data removed]",
      "text/plain": [
       "<Figure size 432x288 with 1 Axes>"
      ]
     },
     "metadata": {
      "needs_background": "light"
     },
     "output_type": "display_data"
    }
   ],
   "source": [
    "n, bins, patches = plt.hist(x=rd_f, bins='auto', alpha=0.7, rwidth=0.85)\n",
    "plt.grid(axis='y', alpha=0.75)\n",
    "plt.xlabel('Value')\n",
    "plt.ylabel('Frequency')\n",
    "plt.ylim(ymax=800)\n"
   ]
  },
  {
   "cell_type": "code",
   "execution_count": 69,
   "metadata": {},
   "outputs": [],
   "source": [
    "# Simulate random effects we build the groups index \n",
    "group_train = np.arange(ntrain)  # grouping variable\n",
    "for i in range(m):\n",
    "    group_train[int(i * ntrain / m):int((i + 1) * ntrain / m)] = i"
   ]
  },
  {
   "cell_type": "markdown",
   "metadata": {},
   "source": [
    "We build the train data set with response and random effect "
   ]
  },
  {
   "cell_type": "code",
   "execution_count": 70,
   "metadata": {},
   "outputs": [],
   "source": [
    "#  Build the random effect \n",
    "sigma2_1 = 1  # random effect variance\n",
    "sigma2 = 1 ** 2  # error variance\n",
    "b = np.sqrt(sigma2_1) * np.random.normal(size=ntrain)  # simulate random effects\n",
    "\n",
    "Zb = b[group_train]\n",
    "# Put everything together for the response\n",
    "xi = np.sqrt(sigma2) * np.random.normal(size=ntrain)  # simulate error term\n",
    "y = rd_f + Zb + xi  # observed data"
   ]
  },
  {
   "cell_type": "code",
   "execution_count": null,
   "metadata": {},
   "outputs": [],
   "source": [
    "Build the model using the GP boost"
   ]
  },
  {
   "cell_type": "code",
   "execution_count": 73,
   "metadata": {},
   "outputs": [
    {
     "name": "stdout",
     "output_type": "stream",
     "text": [
      "Covariance parameters \n",
      "['Error_term', 'Group_1']\n",
      "[0.89285775 1.00095865]\n"
     ]
    },
    {
     "data": {
      "text/plain": [
       "<gpboost.basic.GPModel at 0x1a200a1910>"
      ]
     },
     "execution_count": 73,
     "metadata": {},
     "output_type": "execute_result"
    }
   ],
   "source": [
    "# Define and train GPModel\n",
    "gp_model = gpb.GPModel(group_data=group_train)\n",
    "# create dataset for gpb.train function\n",
    "data_train = gpb.Dataset(pd_x, y)\n",
    "# specify tree-boosting parameters as a dict\n",
    "params = { 'objective': 'regression_l2', 'learning_rate': 0.1, 'max_depth': 6, 'min_data_in_leaf': 5, 'verbose': 0 }\n",
    "# train model\n",
    "bst = gpb.train(params=params, train_set=data_train, gp_model=gp_model, num_boost_round=32)\n",
    "gp_model.summary() # estimated covariance parameters"
   ]
  },
  {
   "cell_type": "code",
   "execution_count": null,
   "metadata": {},
   "outputs": [],
   "source": [
    "We predict on the train set here, we did no build a test set as we explore. The result is not really great. "
   ]
  },
  {
   "cell_type": "code",
   "execution_count": 74,
   "metadata": {},
   "outputs": [
    {
     "data": {
      "text/plain": [
       "0.9003394820504346"
      ]
     },
     "execution_count": 74,
     "metadata": {},
     "output_type": "execute_result"
    }
   ],
   "source": [
    "# Make predictions\n",
    "pred = bst.predict(data=pd_x, group_data_pred=group_train)\n",
    "y_pred = pred['fixed_effect'] + pred['random_effect_mean'] # sum predictions of fixed effect and random effect\n",
    "np.sqrt(np.mean((y - y_pred) ** 2)) # root mean square error (RMSE) on test data. Approx. = 1.25"
   ]
  },
  {
   "cell_type": "code",
   "execution_count": 78,
   "metadata": {},
   "outputs": [
    {
     "data": {
      "text/plain": [
       "10.612918971944973"
      ]
     },
     "execution_count": 78,
     "metadata": {},
     "output_type": "execute_result"
    }
   ],
   "source": [
    "y.max()"
   ]
  },
  {
   "cell_type": "code",
   "execution_count": 79,
   "metadata": {},
   "outputs": [
    {
     "data": {
      "text/plain": [
       "-2.9105534010215193"
      ]
     },
     "execution_count": 79,
     "metadata": {},
     "output_type": "execute_result"
    }
   ],
   "source": [
    "y.min()"
   ]
  },
  {
   "cell_type": "code",
   "execution_count": 80,
   "metadata": {},
   "outputs": [
    {
     "data": {
      "text/plain": [
       "<AxesSubplot:title={'center':'Feature importance'}, xlabel='Feature importance', ylabel='Features'>"
      ]
     },
     "execution_count": 80,
     "metadata": {},
     "output_type": "execute_result"
    },
    {
     "data": {
      "image/png": "[encoded data removed]",
      "text/plain": [
       "<Figure size 432x288 with 1 Axes>"
      ]
     },
     "metadata": {
      "needs_background": "light"
     },
     "output_type": "display_data"
    }
   ],
   "source": [
    "# Plotting feature importances\n",
    "gpb.plot_importance(bst)"
   ]
  },
  {
   "cell_type": "code",
   "execution_count": null,
   "metadata": {},
   "outputs": [],
   "source": []
  }
 ],
 "metadata": {
  "kernelspec": {
   "display_name": "Python 3",
   "language": "python",
   "name": "python3"
  },
  "language_info": {
   "codemirror_mode": {
    "name": "ipython",
    "version": 3
   },
   "file_extension": ".py",
   "mimetype": "text/x-python",
   "name": "python",
   "nbconvert_exporter": "python",
   "pygments_lexer": "ipython3",
   "version": "3.7.6"
  }
 },
 "nbformat": 4,
 "nbformat_minor": 4
}
